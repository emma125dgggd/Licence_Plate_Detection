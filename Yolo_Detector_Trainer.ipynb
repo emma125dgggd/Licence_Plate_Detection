{
  "nbformat": 4,
  "nbformat_minor": 0,
  "metadata": {
    "colab": {
      "provenance": []
    },
    "kernelspec": {
      "name": "python3",
      "display_name": "Python 3"
    },
    "language_info": {
      "name": "python"
    },
    "accelerator": "GPU"
  },
  "cells": [
    {
      "cell_type": "markdown",
      "source": [
        "## 1. Make sure you have a GPU\n",
        "**IMPORTANT**: Run this command to check if Google Colab gave you a GPU, if not you can change your gmail account on the top right corner of this page and you will get one."
      ],
      "metadata": {
        "id": "CZ5Q6mNGJcRz"
      }
    },
    {
      "cell_type": "code",
      "source": [
        "!nvidia-smi"
      ],
      "metadata": {
        "id": "IYnWJGnOKHpS",
        "outputId": "5b985c73-f11d-4688-d12f-2d237ec2b038",
        "colab": {
          "base_uri": "https://localhost:8080/"
        }
      },
      "execution_count": 1,
      "outputs": [
        {
          "output_type": "stream",
          "name": "stdout",
          "text": [
            "Wed Mar 27 21:18:50 2024       \n",
            "+---------------------------------------------------------------------------------------+\n",
            "| NVIDIA-SMI 535.104.05             Driver Version: 535.104.05   CUDA Version: 12.2     |\n",
            "|-----------------------------------------+----------------------+----------------------+\n",
            "| GPU  Name                 Persistence-M | Bus-Id        Disp.A | Volatile Uncorr. ECC |\n",
            "| Fan  Temp   Perf          Pwr:Usage/Cap |         Memory-Usage | GPU-Util  Compute M. |\n",
            "|                                         |                      |               MIG M. |\n",
            "|=========================================+======================+======================|\n",
            "|   0  Tesla T4                       Off | 00000000:00:04.0 Off |                    0 |\n",
            "| N/A   34C    P8               9W /  70W |      0MiB / 15360MiB |      0%      Default |\n",
            "|                                         |                      |                  N/A |\n",
            "+-----------------------------------------+----------------------+----------------------+\n",
            "                                                                                         \n",
            "+---------------------------------------------------------------------------------------+\n",
            "| Processes:                                                                            |\n",
            "|  GPU   GI   CI        PID   Type   Process name                            GPU Memory |\n",
            "|        ID   ID                                                             Usage      |\n",
            "|=======================================================================================|\n",
            "|  No running processes found                                                           |\n",
            "+---------------------------------------------------------------------------------------+\n"
          ]
        }
      ]
    },
    {
      "cell_type": "markdown",
      "metadata": {
        "id": "poTgiKzXulX8"
      },
      "source": [
        "## 2. Install the theos python package"
      ]
    },
    {
      "cell_type": "code",
      "metadata": {
        "id": "Km-v15C1oG-v"
      },
      "source": [
        "!python3.10 -m pip install theos-ai==0.0.36"
      ],
      "execution_count": null,
      "outputs": []
    },
    {
      "cell_type": "markdown",
      "metadata": {
        "id": "Af3wQbwgvF8i"
      },
      "source": [
        "## 3. Run the setup to finish installing theos\n",
        "After the installation finishes an error message will probably show up, you can safely ignore it and continue with the next step."
      ]
    },
    {
      "cell_type": "code",
      "metadata": {
        "id": "X_MAeIdrogRI"
      },
      "source": [
        "!theos setup --version v1"
      ],
      "execution_count": null,
      "outputs": []
    },
    {
      "cell_type": "markdown",
      "source": [
        "## 4. Restart the colab runtime\n",
        "\n",
        "Click the restart runtime option on the top menu.\n",
        "\n",
        "<img src=\"https://drive.google.com/uc?id=127ow4FbCF8cfBVfC-bWdhsv4l0-Usb2m\" width=\"650px\"/>\n"
      ],
      "metadata": {
        "id": "m3-TfEGjXEJI"
      }
    },
    {
      "cell_type": "markdown",
      "metadata": {
        "id": "BfyI_ITqvPTW"
      },
      "source": [
        "## 5. Log in to your account"
      ]
    },
    {
      "cell_type": "code",
      "metadata": {
        "id": "IgXxZBkTpgXS"
      },
      "source": [
        "!theos login"
      ],
      "execution_count": null,
      "outputs": []
    },
    {
      "cell_type": "markdown",
      "metadata": {
        "id": "Xp7xq-sPsuzC"
      },
      "source": [
        "# 6. Connect colab to your theos project\n",
        "Copy your theos project key and paste it next to **--project-key**\n",
        "\n",
        "(If the execution is not working well at any time, just stop this cell and run it again)\n"
      ]
    },
    {
      "cell_type": "code",
      "metadata": {
        "id": "jM31_cCBpk7a"
      },
      "source": [
        "!theos connect --project-key"
      ],
      "execution_count": null,
      "outputs": []
    }
  ]
}